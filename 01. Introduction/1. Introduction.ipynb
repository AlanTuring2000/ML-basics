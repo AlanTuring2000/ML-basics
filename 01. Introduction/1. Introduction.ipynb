{
 "cells": [
  {
   "cell_type": "markdown",
   "id": "960bd6ba",
   "metadata": {},
   "source": [
    "<h1 style=\"font-family: Arial; font-weight: 900; color: magenta; text-align: center;\">INTRODUCTION</h1><br>"
   ]
  },
  {
   "cell_type": "markdown",
   "id": "2a2b4738",
   "metadata": {},
   "source": [
    "<br/><div style=\"font-family: Arial; color: darkblue; font-size: 14px; font-weight: 600\"><a id=\"toc\"></a>\n",
    "In this part 1:\n",
    "    <p style=\"margin: 0 0 0 2rem; font-size: 16px; font-weight: 800\">[1. The three different types of machine learning](#1)</p>\n",
    "        <p style=\"margin: 0 0 0 4rem\">[1a. Supervised learning](#1a)</p>\n",
    "        <p style=\"margin: 0 0 0 4rem\">[1b. Reinforcement learning](#1b)</p>\n",
    "        <p style=\"margin: 0 0 0 4rem\">[1c. Unsupervised learning](#1c)</p><br/>\n",
    "    <p style=\"margin: 0 0 0 2rem; font-size: 16px; font-weight: 800\">[2. Basic terminology and notations](#2)</p>\n",
    "        <p style=\"margin: 0 0 0 4rem\">[2a. Basic terminology](#2a)</p>\n",
    "        <p style=\"margin: 0 0 0 4rem\">[2b. Notations](#2b)</p>\n",
    "        <p style=\"margin: 0 0 0 4rem\">[2c. A roadmap for building machine learning systems](#2c)</p></div>"
   ]
  },
  {
   "cell_type": "markdown",
   "id": "690fab82-759c-412d-ba14-2bc5d1458e72",
   "metadata": {},
   "source": [
    "<br><div style=\"margin: 0; font-family: Arial; font-size: 14px; font-weight: 500; color: darkblue\">$\\quad$\n",
    "    <font color='purple'>$\\blacksquare\\;$<font color='darkpink'><font size=5><strong>Note about colors</strong></font></font></font><div style=\"margin-top: 10px\"></div>$\\quad$\n",
    "        All along the course, I will use a <font color='#cc33ff'>faded neon fuchsia</font> for mandatory names (eg library names - like <font color='#cc33ff'>scikit-learn</font> - or functions - <font color='#cc33ff'>$MSE\\,$</font> -, classes - <font color='#cc33ff'>MinMaxScaler(feature_range=(0, 1))</font> -, parameters - <font color='#cc33ff'>feature_range</font> -,...) and technical terms (eg <font color='#cc33ff'>supervised learning</font>, <font color='#cc33ff'>class</font>,...). And I will use a somewhat <font color='#1aabff'>faded neon blue</font> for all object notations (eg <font color='#1aabff'>$X$</font>, <font color='#1aabff'>$x^{(i)}$</font>,...) or for particular values (eg <font color='#1aabff'>$\\ln(x)$</font>, <font color='#cc33ff'>feature_range=</font><font color='#1aabff'>(a,b)</font>,...).<br>$\\quad$\n",
    "        Important points or terms, when introduced for the first time, will be highlighted in <font color='darkpink'>darkpink</font>, while less important ones will be written in <font color='purple'>purple</font>. Otherwise, I will write the main text in my favorite color, a dark blue.<br>$\\quad$\n",
    "        Pieces of code are written in a <font color='#5555ff'>soft indigo</font> (a color whose hex code might add an even brighter smile to my Thai-speaking friends); for example <font color='#5555ff'>print(df.isnull().sum())</font><br>$\\quad$\n",
    "        For the structure of the text, I will use <font color='darkpink'>darkpink</font> again for titles and subtitles, and <font color='magenta'>magenta</font> or <font color='purple'>purple</font> when I see fit.<br>$\\quad$\n",
    "        I particularly enjoy cyberpunk colors, and I will use them as often as I can for my diagrams. Unfortunately, I had to make sure that my colors could still be legible on any environment, so I couldn't use the flashiest ones. I hope you will like them anyway."
   ]
  },
  {
   "cell_type": "markdown",
   "id": "fc848a3f",
   "metadata": {},
   "source": [
    "<a id=\"1\"></a><br><br><br><div style=\"font-family: Arial; font-size: 14px; font-weight: 500; color: darkblue\">\n",
    "    <h4 style=\"margin: 0 0 .5rem 2rem; font-size: 18px; font-weight: 800\"><font color='darkpink'>1. THE THREE DIFFERENT TYPES OF MACHINE LEARNING</font></h4>\n",
    "    <p style=\"margin: 0 0 .5rem 4rem; font-size: 16px; font-weight: 600\"><font color='darkpink'>1a. Supervised learning</font><a id=\"1a\"></a></p>$\\quad$\n",
    "        The main goal in <font color='darkpink'>supervised learning</font> is to develop a model from known data that allows us to make predictions about unseen or future data. Specifically, we are interested in a particular value (or a particular <font color='darkpink'>class</font> - or <font color='darkpink'>label</font> -, ie the category to which the data point belongs), say <font color='#1aabff'>$y$</font>, and we have a dataset of examples where the value of <font color='#1aabff'>$y$</font> is known, along with other values that may or may not be related to <font color='#1aabff'>$y$</font>. We hope to find a relation that will enable us to determine the value of <font color='#1aabff'>$y$</font> from these other values. The term <font color='darkpink'>supervised</font> refers to the training examples (data inputs) for which the desired output signals (or classes) <font color='#1aabff'>$y$</font> are already known; <font color='#cc33ff'>supervised learning</font>, therefore, consists in modeling the relationship between the data inputs and <font color='#1aabff'>$y$</font>.</p>$\\quad$\n",
    "        <font color='#cc33ff'>Supervised learning</font> tasks are divided into two categories, according to whether the number of possible <font color='#1aabff'>$y$</font> is discrete or continuous; in the first case they are called <font color='darkpink'>classification tasks</font> (since we try to predict classes), and <font color='darkpink'>regression tasks</font> in the second.</p></div>"
   ]
  },
  {
   "cell_type": "markdown",
   "id": "f3c4e61c",
   "metadata": {},
   "source": [
    "<figure style=\"text-align: center;\">\n",
    "    <img src=\"1.1.supervisedLearning.png\" alt=\"Supervised learning process\" width=\"400\" />\n",
    "    <figcaption style=\"margin-top: .5rem; font-weight: bold; color: purple\">Supervised learning process</figcaption>\n",
    "</figure>"
   ]
  },
  {
   "cell_type": "markdown",
   "id": "e8a9fe2c",
   "metadata": {},
   "source": [
    "<br><div style=\"margin: 0; font-family: Arial; font-size: 14px; font-weight: 500; color: darkblue\">$\\quad$\n",
    "        An example of a <font color='#cc33ff'>classification task</font> is to determine hyperplanes separating the various classes of a dataset. In the following diagram the data points depend on two variables, <font color='#1aabff'>$x_1$</font> and <font color='#1aabff'>$x_2$</font> :</p>"
   ]
  },
  {
   "cell_type": "markdown",
   "id": "cbb23901",
   "metadata": {},
   "source": [
    "<figure style=\"text-align: center;\">\n",
    "    <img src=\"1.2.classificationTask.png\" alt=\"Classification task diagram\" width=\"300\" />\n",
    "    <figcaption style=\"margin-top: .5rem; font-weight: bold; color: purple\">Hyperplane separating the data points</figcaption>\n",
    "</figure>"
   ]
  },
  {
   "cell_type": "markdown",
   "id": "d137ec43",
   "metadata": {},
   "source": [
    "<br><div style=\"margin: 0; font-family: Arial; font-size: 14px; font-weight: 500; color: darkblue\">$\\quad$\n",
    "        An example of a <font color='#cc33ff'>regression task</font> is to determine the hyperplane closest to the data points (usually according to the average square distance). In the following diagram <font color='#1aabff'>$x$</font> represents the <font color='darkpink'>features</font> (ie the known data), while <font color='#1aabff'>$y$</font> represents the <font color='darkpink'>outcomes</font> - or <font color='darkpink'>targets</font> - (ie the continuous response variable) :</p></div>"
   ]
  },
  {
   "cell_type": "markdown",
   "id": "24b41d4b",
   "metadata": {},
   "source": [
    "<figure style=\"text-align: center;\">\n",
    "    <img src=\"1.3.regressionTask.png\" alt=\"Regression task diagram\" width=\"300\" />\n",
    "    <figcaption style=\"margin-top: .5rem; font-weight: bold; color: purple\">Hyperplane fitting the data points</figcaption>\n",
    "</figure>"
   ]
  },
  {
   "cell_type": "markdown",
   "id": "06d333e7",
   "metadata": {},
   "source": [
    "<br><br><div style=\"font-family: Arial; font-size:14px; color: darkblue\">\n",
    "    <p style=\"margin: 0 0 .5rem 4rem; font-size: 16px; font-weight: 600\"><font color='darkpink'>1b. Reinforcement learning</font><a id=\"1b\"></a></p>$\\quad$\n",
    "    In <font color='darkpink'>reinforcement learning</font>, the goal is to develop a system (<font color='darkpink'>agent</font>) that improves its performance based on interactions with the environment. Since the information about the current state of the environment typically also includes a so-called <font color='darkpink'>reward function</font>, we can think of <font color='#cc33ff'>reinforcement learning</font> as a field related to <font color='#cc33ff'>supervised learning</font>. However, in <font color='#cc33ff'>reinforcement learning</font>, this feedback is not the correct <font color='#cc33ff'>class</font> or value, but a measure of how well the action was measured by the <font color='#cc33ff'>reward function</font>. Through its interaction with the environment, an <font color='#cc33ff'>agent</font> can then use <font color='#cc33ff'>reinforcement learning</font> to learn a series of actions that maximizes this <font color='#cc33ff'>reward</font> via an exploratory trial-and-error approach or deliberative planning.<br/>$\\quad$\n",
    "    The <font color='#cc33ff'>reward</font> could be earned either immediately after taking an action or via delayed feedback.<br/>$\\quad$\n",
    "    A popular example of <font color='#cc33ff'>reinforcement learning</font> is a chess program. Here, the <font color='#cc33ff'>agent</font> decides upon a series of moves depending on the state of the board (the environment), and the <font color='#cc33ff'>reward</font> can be defined as win or lose at the end of the game.</div>"
   ]
  },
  {
   "cell_type": "markdown",
   "id": "99258f53",
   "metadata": {},
   "source": [
    "<br><br><div style=\"font-family: Arial; font-size: 14px; color: darkblue\">\n",
    "    <p style=\"margin: 0 0 .5rem 4rem; font-size: 16px; font-weight: 600\"><font color='darkpink'>1c. Unsupervised learning</font><a id=\"1c\"></a></p>$\\quad$\n",
    "        In <font color='darkpink'>unsupervised learning</font>, we deal with <font color='darkpink'>unlabeled data</font> (ie unknown <font color='#1aabff'>$y$</font>). Using <font color='#cc33ff'>unsupervised learning</font> techniques, we are able to explore the structure of our data to extract meaningful information without the guidance of a known outcome variable or reward function.<br/><br/>\n",
    "    <p style=\"margin: 0 0 0 4rem; font-weight: 600; color: purple\">*** CLUSTERING ***</p><div style=\"margin-top: 10px\"></div>$\\quad$\n",
    "        <font color='darkpink'>Clustering</font> is an exploratory data analysis or pattern discovery technique that allows us to organize a pile of information into meaningful subgroups called <font color='darkpink'>clusters</font> without having any prior knowledge of their group memberships. Each <font color='#cc33ff'>cluster</font> that arises during the analysis defines a group of objects that share a certain degree of similarity and are more dissimilar to objects in other <font color='#cc33ff'>clusters</font>, which is why <font color='#cc33ff'>clustering</font> is also sometimes called <font color='purple'>unsupervised classification</font>.</font><br>\n",
    "    <font color='#cc33ff'>Clustering</font> is a great technique for structuring information and deriving meaningful relationships from data. For example, it allows biologists to group frogs into species based on DNA clusters, prior to any labeling."
   ]
  },
  {
   "cell_type": "markdown",
   "id": "2515ac2e",
   "metadata": {},
   "source": [
    "<figure style=\"text-align: center;\">\n",
    "    <img src=\"1.4.clustering.png\" alt=\"Clustering diagram\" width=\"300\" />\n",
    "    <figcaption style=\"margin-top: .5rem; font-weight: bold; color: purple\">Clustering</figcaption>\n",
    "</figure>"
   ]
  },
  {
   "cell_type": "markdown",
   "id": "55bd09df",
   "metadata": {},
   "source": [
    "<br><div style=\"margin: 0; font-family: Arial; font-size: 14px; font-weight: 500; color: darkblue\">$\\quad$\n",
    "    <p style=\"margin: 0 0 0 4rem; font-weight: 600; color: purple\">*** DIMENSIONALITY REDUCTION ***</p><div style=\"margin-top: 10px\"></div>$\\quad$\n",
    "        Another subfield of <font color='#cc33ff'>unsupervised learning</font> is <font color='darkpink'>dimensionality reduction</font>. Often, we work with data of high dimensionality - each observation comes with a high number of measurements - that can present a challenge for limited storage space and the computational performance of machine learning algorithms. When some of these measurements are highly correlated, and therefore redundant to a certain degree, we can use <font color='#cc33ff'>dimensionality reduction</font> techniques to compress the data onto a smaller dimensional subspace while retaining most of its relevant information.<div style=\"margin-top: 10px\"></div>$\\quad$\n",
    "        <font color='#cc33ff'>Unsupervised dimensionality reduction</font> is also commonly used in feature preprocessing to remove noise from data.</p></div>"
   ]
  },
  {
   "cell_type": "markdown",
   "id": "3bc5ce81",
   "metadata": {},
   "source": [
    "<figure style=\"text-align: center;\">\n",
    "    <img src=\"1.5.Dimensionality reduction.png\" alt=\"Dimensionality reduction diagram\" width=\"500\" />\n",
    "    <figcaption style=\"margin-top: .5rem; font-weight: bold; color: purple\">Dimensionality reduction from three to two dimensions</figcaption>\n",
    "</figure>"
   ]
  },
  {
   "cell_type": "markdown",
   "id": "2a188603",
   "metadata": {},
   "source": [
    "<a id=\"2\"></a><br><br><br><div style=\"font-family: Arial; font-size: 14px; font-weight: 500; color: darkblue\">\n",
    "    <h4 style=\"margin: 0 0 .5rem 2rem; font-size: 18px; font-weight: 800\"><font color='darkpink'>2. BASIC TERMINOLOGY AND NOTATIONS</font></h4>\n",
    "    <p style=\"margin: 0 0 .5rem 4rem; font-size: 16px; font-weight: 600\"><font color='darkpink'>2a. Basic terminology</font><a id=\"2a\"></a></p>$\\quad$\n",
    "        Machine learning is a vast field and also very interdisciplinary; many terms and concepts appear under different names :<ul>\n",
    "    <li>a <font color='darkpink'>dataset</font> is a table containing some data about some objects; each row corresponds to an object; each column corresponds to a characteristic recorded for the objects. In <font color='#cc33ff'>supervised learning</font>, the goal will be to find a relationship between the values in a given column and the values in the other columns, in order to predict a given characteristic of an object from its other characteristics.</li>\n",
    "    <li><font color='darkpink'>target vector</font> or <font color='darkpink'>response variable</font> : the characteristic we are interested in is separated from the rest of the dataset, and called the <font color='#cc33ff'>target vector</font> (or sometimes the <font color='#cc33ff'>response variable</font>); it is usually denoted by <font color='#1aabff'>$y$</font></li>\n",
    "    <li>a <font color='darkpink'>target</font> or <font color='darkpink'>class</font> or <font color='darkpink'>label</font> or <font color='darkpink'>output</font> or <font color='darkpink'>outcome</font> is any component of the target vector <font color='#1aabff'>$y$</font>. <font color='#cc33ff'>Target</font> is the general term; <font color='#cc33ff'>class</font> and <font color='#cc33ff'>label</font> are used when we want to predict the group an object belongs to (this group is called a <font color='#cc33ff'>class</font>, hence the term <font color='#cc33ff'>classification task</font>; the <font color='#cc33ff'>label</font> is the name of the class); <font color='#cc33ff'>output</font> is an equivalent to <font color='#cc33ff'>target</font>, but in Machine Learning it is only used for <font color='#cc33ff'>regression tasks</font> (ie when the <font color='#cc33ff'>target</font> is continuous), while in Deep Learning it is used for both task types; <font color='#cc33ff'>outcome</font> is rarely used, but is an equivalent to <font color='#cc33ff'>target</font>. Following the book, we will denote by <font color='#1aabff'>$y^{(i)}$</font> the $i$-th component of <font color='#1aabff'>$y$</font></li>\n",
    "    <li>the <font color='darkpink'>input matrix</font> or <font color='darkpink'>feature matrix</font> or <font color='darkpink'>instance matrix</font> is what remains of the dataset once the <font color='#cc33ff'>target vector</font> has been removed; it is usually denoted by <font color='#1aabff'>$X$</font></li>\n",
    "    <li><font color='darkpink'>feature</font> : any column of the input matrix <font color='#1aabff'>$X$</font>; I denote the <font color='#1aabff'>$j$</font>-th feature by <font color='#1aabff'>$X_j$</font> (like I denote the <font color='#1aabff'>$j$</font>-th column of any matrix <font color='#1aabff'>$X$</font>)</li>\n",
    "    <li><font color='darkpink'>instance</font> or <font color='darkpink'>example</font> or <font color='darkpink'>sample</font> or <font color='darkpink'>record</font> or <font color='darkpink'>observation</font> : any row of the input matrix; I follow the book and denote the $i$-th instance by <font color='#1aabff'>$x^{(i)}$</font></li>\n",
    "    <li><font color='darkpink'>training matrix</font> or <font color='darkpink'>training set</font> or <font color='darkpink'>training dataset</font> : most of the rows of the input matrix (usually between $70\\%$ for small datasets to $90\\%$ for large datasets), and the corresponding targets are kept to try and find the aforementioned relationship between the inputs and their targets, usually by training a model. The collection of these rows is called the <font color='#cc33ff'>training matrix</font> and we will denote it by <font color='#1aabff'>$X_\\text{train}$</font>, or by <font color='#1aabff'>$X$</font> when no confusion is possible with the whole input matrix</li>\n",
    "    <li><font color='darkpink'>(training) target vector</font> : the part of the <font color='#cc33ff'>target vector</font> which corresponds to the <font color='#cc33ff'>training matrix</font> is called the <font color='#cc33ff'>training target vector</font> or, more commonly, the <font color='#cc33ff'>target vector</font> when no confusion is possible with the whole <font color='#cc33ff'>target vector</font>; we will denote it by <font color='#1aabff'>$y_\\text{train}$</font> (or <font color='#1aabff'>$y$</font> when no confusion is possible with the whole <font color='#cc33ff'>target vector</font>)\n",
    "    <li><font color='darkpink'>training instance</font> or <font color='darkpink'>training example</font> or <font color='darkpink'>training sample</font> : any row of the training matrix; <font color='#1aabff'>$x^{(i)}$</font> denotes the <font color='#1aabff'>$i$</font>-th training instance when no confusion is possible with the <font color='#1aabff'>$i$</font>-th row of the input matrix</li>\n",
    "    <li><font color='darkpink'>test set</font> or <font color='darkpink'>test dataset</font> : what remains of the <font color='#cc33ff'>input matrix</font> once the <font color='#cc33ff'>training matrix</font> has been removed; we denote it by <font color='#1aabff'>$X_\\text{test}$</font></li>\n",
    "    <li><font color='darkpink'>cost function</font> or <font color='darkpink'>loss function</font> or <font color='darkpink'>error function</font> or <font color='darkpink'>reward signal</font> : the function to minimize in Machine Learning (as the measure of the total error on the considered examples), or to maximize in <font color='#cc33ff'>reinforcement learning</font> (as a measure of the reward). In some literature, the term <font color='#cc33ff'>loss</font> refers to the <font color='#cc33ff'>loss</font> measured for a single data point, and the <font color='#cc33ff'>cost</font> is a measurement that computes the <font color='#cc33ff'>loss</font> (averaged or summed) over the entire dataset; however, here we use both terms interchangeably</li></ul>"
   ]
  },
  {
   "cell_type": "markdown",
   "id": "e280a86b",
   "metadata": {},
   "source": [
    "<br><br><div style=\"font-family: Arial; color: darkblue\">\n",
    "    <p style=\"margin: 0 0 .5rem 4rem; font-size: 16px; font-weight: 600\"><font color='darkpink'>2b. Notations</font><a id=\"2b\"></a></p>$\\quad$\n",
    "    A typical dataset is the <font color='#cc33ff'>Iris dataset</font> :</p>"
   ]
  },
  {
   "cell_type": "markdown",
   "id": "ff754dc3",
   "metadata": {},
   "source": [
    "<figure style=\"text-align: center;\">\n",
    "    <img src=\"1.6.irisDataset.png\" alt=\"The iris dataset\" width=\"400\" />\n",
    "    <figcaption style=\"margin-top: .5rem; font-weight: bold; color: purple\">The Iris dataset</figcaption>\n",
    "</figure>"
   ]
  },
  {
   "cell_type": "markdown",
   "id": "88688be5",
   "metadata": {},
   "source": [
    "<br><div style=\"margin: 0; font-family: Arial; font-size: 14px; font-weight: 500; color: darkblue\">$\\quad$\n",
    "        As seen above, we can split such datasets into a <font color='#cc33ff'>training matrix</font> composed of <font color='#1aabff'>$m$</font> instances<div style=\"margin-top: 10px\"></div><font color='darkpink'>\n",
    "    $$X = (x^{(i)}_{j})_{\\, i \\,\\in\\, \\{1, \\cdots, m\\},\\, j \\,\\in\\, \\{1, \\cdots, 4\\}} \\in \\mathbb{R}^{m \\times 4} \\qquad\\quad (1)$$</font><div style=\"margin-top: 10px\"></div>\n",
    "and a <font color='#cc33ff'>target</font><div style=\"margin-top: 10px\"></div><font color='darkpink'>\n",
    "    $$y = (y^{(i)})_{\\, i \\,\\in\\, \\{1, \\cdots, m\\}} \\in \\mathbb{R}^{m \\times 1} \\qquad\\quad (2)$$</font><div style=\"margin-top: 10px\"></div>\n",
    "where<div style=\"margin-top: 10px\"></div><font color='darkpink'>\n",
    "    $$\\forall i \\in \\{1, \\cdots, m\\} \\quad y^{(i)} \\in \\{\\text{Setosa, Versicolor, Virginica}\\} \\qquad\\quad (3)$$</font><div style=\"margin-top: 10px\"></div>$\\quad$\n",
    "        The <font color='#1aabff'>$i$</font>-th <font color='#cc33ff'>training instance</font> is the <font color='#1aabff'>$i$</font>-th row of the <font color='#cc33ff'>training matrix</font><div style=\"margin-top: 10px\"></div><font color='darkpink'>\n",
    "    $$x^{(i)} = (x^{(i)}_{j})_{\\, j \\,=\\, 1, \\cdots, 4} \\in \\mathbb{R}^{1 \\times 4} \\qquad\\quad (4)$$</font><div style=\"margin-top: 10px\"></div>\n",
    "while the <font color='#1aabff'>$j$</font>-th feature is its <font color='#1aabff'>$j$</font>-th column<div style=\"margin-top: 10px\"></div><font color='darkpink'>\n",
    "    $$X_{j} = (x^{(i)}_{j})_{\\, i \\,=\\, 1, \\cdots, m} \\in \\mathbb{R}^{150 \\times 1} \\qquad\\quad (5)$$</font><div style=\"margin-top: 10px\"></div>$\\quad$\n",
    "        The <font color='#cc33ff'>Iris dataset</font> is composed of $50$ instances of each class ($50$ <font color='#cc33ff'>Setosa</font>, $50$ <font color='#cc33ff'>Versicolor</font>, and $50$ <font color='#cc33ff'>Virginica</font>). Each <font color='#cc33ff'>instance</font> has $4$ <font color='#cc33ff'>features</font> : <font color='#cc33ff'>sepal length</font>, <font color='#cc33ff'>sepal width</font>, <font color='#cc33ff'>petal length</font>, and <font color='#cc33ff'>petal width</font>."
   ]
  },
  {
   "cell_type": "markdown",
   "id": "412832d6",
   "metadata": {},
   "source": [
    "<br><br><div style=\"font-family: Arial; color: darkblue\">\n",
    "    <p style=\"margin: 0 0 .5rem 4rem; font-size: 16px; font-weight: 600\"><font color='darkpink'>2c. A roadmap for building Machine Learning systems</font><a id=\"2c\"></a></p>"
   ]
  },
  {
   "cell_type": "markdown",
   "id": "3a2d666b",
   "metadata": {},
   "source": [
    "<figure style=\"text-align: center;\">\n",
    "    <img src=\"1.7.predictiveModelWorkflow.png\" alt=\"Diagram showing the various stages of building a predictive model\" width=\"500\" />\n",
    "    <figcaption style=\"margin-top: .5rem; font-weight: bold; color: purple\">The predictive modeling workflow</figcaption>\n",
    "</figure>"
   ]
  }
 ],
 "metadata": {
  "kernelspec": {
   "display_name": "Python 3 (ipykernel)",
   "language": "python",
   "name": "python3"
  },
  "language_info": {
   "codemirror_mode": {
    "name": "ipython",
    "version": 3
   },
   "file_extension": ".py",
   "mimetype": "text/x-python",
   "name": "python",
   "nbconvert_exporter": "python",
   "pygments_lexer": "ipython3",
   "version": "3.13.3"
  }
 },
 "nbformat": 4,
 "nbformat_minor": 5
}
