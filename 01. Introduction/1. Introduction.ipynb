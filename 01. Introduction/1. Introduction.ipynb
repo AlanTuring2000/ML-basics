{
 "cells": [
  {
   "cell_type": "markdown",
   "id": "960bd6ba",
   "metadata": {},
   "source": [
    "<h1 style=\"font-family: Arial; font-weight: 900; color: magenta; text-align: center;\">INTRODUCTION</h1><br>"
   ]
  },
  {
   "cell_type": "markdown",
   "id": "2a2b4738",
   "metadata": {},
   "source": [
    "<br/><div style=\"font-family: Arial; color: darkblue; font-size: 14px; font-weight: 600\"><a id=\"toc\"></a>\n",
    "In this part 1:\n",
    "    <p style=\"margin: 0 0 0 2rem; font-size: 16px; font-weight: 800\">[1. The three different types of machine learning](#1)</p>\n",
    "        <p style=\"margin: 0 0 0 4rem\">[1a. Supervised learning](#1a)</p>\n",
    "        <p style=\"margin: 0 0 0 4rem\">[1b. Reinforcement learning](#1b)</p>\n",
    "        <p style=\"margin: 0 0 0 4rem\">[1c. Unsupervised learning](#1c)</p><br/>\n",
    "    <p style=\"margin: 0 0 0 2rem; font-size: 16px; font-weight: 800\">[2. Basic terminology and notations](#2)</p>\n",
    "        <p style=\"margin: 0 0 0 4rem\">[2a. Basic terminology](#2a)</p>\n",
    "        <p style=\"margin: 0 0 0 4rem\">[2b. Notations](#2b)</p>\n",
    "        <p style=\"margin: 0 0 0 4rem\">[2c. A roadmap for building machine learning systems](#2c)</p></div>"
   ]
  },
  {
   "cell_type": "markdown",
   "id": "fc848a3f",
   "metadata": {},
   "source": [
    "<a id=\"1\"></a><br><br><br><div style=\"font-family: Arial; font-size: 14px; font-weight: 500; color: darkblue\">\n",
    "    <h4 style=\"margin: 0 0 .5rem 2rem; font-size: 18px; font-weight: 800\"><font color='darkpink'>1. THE THREE DIFFERENT TYPES OF MACHINE LEARNING</font></h4>\n",
    "    <p style=\"margin: 0 0 .5rem 4rem; font-size: 16px; font-weight: 600\"><font color='darkpink'>1a. Supervised learning</font><a id=\"1a\"></a></p>$\\quad$\n",
    "        The main goal in supervised learning is to develop a model from labeled training data that allows us to make predictions about unseen or future data. Specifically, we are interested in a particular value (or a particular class), say \"y\", and we have a dataset of examples where the value of \"y\" is known, along with a set of other values. Although we do not initially know whether these other values are strongly related or unrelated to \"y\", we hope to find a relation that will enable us to determine the value of \"y\" given these other values. The term \"supervised\" refers to the training examples (data inputs) for which the desired output signals (or classes, also called labels) \"y\" are already known. Supervised learning, therefore, consists in modeling the relationship between the data inputs and the labels.</p>$\\quad$\n",
    "        Supervised learning tasks are divided into two categories, according to whether the number of possible \"y\" is discrete or continuous; in the first case they are called \"<font color='darkpink'>classification tasks</font>\" (since we try to predict classes), and \"<font color='darkpink'>regression tasks</font>\" in the second.</p></div>"
   ]
  },
  {
   "cell_type": "markdown",
   "id": "f3c4e61c",
   "metadata": {},
   "source": [
    "<figure style=\"text-align: center;\">\n",
    "    <img src=\"1.1.supervisedLearning.png\" alt=\"Supervised learning process\" width=\"400\" />\n",
    "    <figcaption style=\"margin-top: .5rem; font-weight: bold; color: purple\">Supervised learning process</figcaption>\n",
    "</figure>"
   ]
  },
  {
   "cell_type": "markdown",
   "id": "e8a9fe2c",
   "metadata": {},
   "source": [
    "<br><p style=\"margin: 0; font-family: Arial; font-size: 14px; font-weight: 500; color: darkblue\">&nbsp;&nbsp;&nbsp;&nbsp;\n",
    "  A classification task consists in determining hyperplanes separating the various classes of the dataset. In the following diagram the data points depend on two variables, x<sub>1</sub> and x<sub>2</sub> :</p>"
   ]
  },
  {
   "cell_type": "markdown",
   "id": "cbb23901",
   "metadata": {},
   "source": [
    "<figure style=\"text-align: center;\">\n",
    "    <img src=\"1.2.classificationTask.png\" alt=\"Classification task diagram\" width=\"300\" />\n",
    "    <figcaption style=\"margin-top: .5rem; font-weight: bold; color: purple\">Hyperplane separating the data points</figcaption>\n",
    "</figure>"
   ]
  },
  {
   "cell_type": "markdown",
   "id": "d137ec43",
   "metadata": {},
   "source": [
    "<br><p style=\"margin: 0; font-family: Arial; font-size: 14px; font-weight: 500; color: darkblue\">&nbsp;&nbsp;&nbsp;&nbsp;\n",
    "        A regression task or regression analysis consists in determining the hyperplane closest to the data points (usually following the average square distance). In the following diagram the \"x\" represent the known data, also called \"<font color='darkpink'>predictor variables</font>\" or \"<font color='darkpink'>features</font>\"; and the \"y\" represent the continuous response variables, also called \"<font color='darkpink'>target variables</font>\" or \"<font color='darkpink'>outcomes</font>\" :</p></div>"
   ]
  },
  {
   "cell_type": "markdown",
   "id": "24b41d4b",
   "metadata": {},
   "source": [
    "<figure style=\"text-align: center;\">\n",
    "    <img src=\"1.3.regressionTask.png\" alt=\"Regression task diagram\" width=\"300\" />\n",
    "    <figcaption style=\"margin-top: .5rem; font-weight: bold; color: purple\">Hyperplane fitting the data points</figcaption>\n",
    "</figure>"
   ]
  },
  {
   "cell_type": "markdown",
   "id": "06d333e7",
   "metadata": {},
   "source": [
    "<br><br><div style=\"font-family: Arial; font-size:14px; color: darkblue\">\n",
    "    <p style=\"margin: 0 0 .5rem 4rem; font-size: 16px; font-weight: 600\"><font color='darkpink'>1b. Reinforcement learning</font><a id=\"1b\"></a></p>&nbsp;&nbsp;&nbsp;&nbsp;\n",
    "    In reinforcement learning, the goal is to develop a system (agent) that improves its performance based on interactions with the environment. Since the information about the current state of the environment typically also includes a so-called \"<font color='darkpink'>reward signal</font>\", we can think of reinforcement learning as a field related to supervised learning. However, in reinforcement learning, this feedback is not the correct ground truth label or value, but a measure of how well the action was measured by a reward function. Through its interaction with the environment, an agent can then use reinforcement learning to learn a series of actions that maximizes this reward via an exploratory trial-and-error approach or deliberative planning.<br/>&nbsp;&nbsp;&nbsp;&nbsp;\n",
    "    The reward could be earned either immediately after taking an action or via delayed feedback.<br/>&nbsp;&nbsp;&nbsp;&nbsp;\n",
    "    A popular example of reinforcement learning is a chess program. Here, the agent decides upon a series of moves depending on the state of the board (the environment), and the reward can be defined as win or lose at the end of the game.</div>"
   ]
  },
  {
   "cell_type": "markdown",
   "id": "99258f53",
   "metadata": {},
   "source": [
    "<br><br><div style=\"font-family: Arial; font-size: 14px; color: darkblue\">\n",
    "    <p style=\"margin: 0 0 .5rem 4rem; font-size: 16px; font-weight: 600\"><font color='darkpink'>1c. Unsupervised learning</font><a id=\"1c\"></a></p>&nbsp;&nbsp;&nbsp;&nbsp;\n",
    "        In unsupervised learning, we deal with unlabeled data or data of an unknown structure. Using unsupervised learning techniques, we are able to explore the structure of our data to extract meaningful information without the guidance of a known outcome variable or reward function.<br/><br/>\n",
    "    <span style=\"margin: 0 0 0 4rem; color: purple\">*** CLUSTERING ***</span><br/>\n",
    "    <p style=\"margin: .5rem 0 0 0; font-size: 14px; font-weight: 500\">&nbsp;&nbsp;&nbsp;&nbsp;\n",
    "  \"<font color='darkpink'>Clustering</font>\" is an exploratory data analysis or pattern discovery technique that allows us to organize a pile of information into meaningful subgroups (clusters) without having any prior knowledge of their group memberships. Each cluster that arises during the analysis defines a group of objects that share a certain degree of similarity but are more dissimilar to objects in other clusters, which is why clustering is also sometimes called unsupervised classification. Clustering is a great technique for structuring information and deriving meaningful relationships from data. For example, it allows marketers to discover customer groups based on their interests, in order to develop distinct marketing programs."
   ]
  },
  {
   "cell_type": "markdown",
   "id": "2515ac2e",
   "metadata": {},
   "source": [
    "<figure style=\"text-align: center;\">\n",
    "    <img src=\"1.4.clustering.png\" alt=\"Clustering diagram\" width=\"300\" />\n",
    "    <figcaption style=\"margin-top: .5rem; font-weight: bold; color: purple\">Clustering</figcaption>\n",
    "</figure>"
   ]
  },
  {
   "cell_type": "markdown",
   "id": "55bd09df",
   "metadata": {},
   "source": [
    "<br><div style=\"margin: 0; font-family: Arial; font-size: 14px; font-weight: 500; color: darkblue\">&nbsp;&nbsp;&nbsp;&nbsp;\n",
    "    <p style=\"margin: 0 0 0 4rem; font-weight: 600; color: purple\">*** DIMENSIONALITY REDUCTION ***</p>$\\quad$\n",
    "        Another subfield of unsupervised learning is dimensionality reduction. Often, we work with data of high dimensionality -each observation comes with a high number of measurements- that can present a challenge for limited storage space and the computational performance of machine learning algorithms. When some of these measurements are highly correlated and therefore redundant to a certain degree we can use dimensionality reduction techniques to compress the data onto a smaller dimensional subspace while retaining most of its relevant information.</p>\n",
    "    <p style=\"margin: 0.5rem 0 0 0; font-size: 12; font-weight: 500\">&nbsp;&nbsp;&nbsp;&nbsp;\n",
    "        Unsupervised dimensionality reduction is also commonly used in feature preprocessing to remove noise from data.</p></div>"
   ]
  },
  {
   "cell_type": "markdown",
   "id": "3bc5ce81",
   "metadata": {},
   "source": [
    "<figure style=\"text-align: center;\">\n",
    "    <img src=\"1.5.Dimensionality reduction.png\" alt=\"Dimensionality reduction diagram\" width=\"500\" />\n",
    "    <figcaption style=\"margin-top: .5rem; font-weight: bold; color: purple\">Dimensionality reduction from three to two dimensions</figcaption>\n",
    "</figure>"
   ]
  },
  {
   "cell_type": "markdown",
   "id": "2a188603",
   "metadata": {},
   "source": [
    "<a id=\"2\"></a><br><br><br><div style=\"font-family: Arial; font-size: 14px; font-weight: 500; color: darkblue\">\n",
    "    <h4 style=\"margin: 0 0 .5rem 2rem; font-size: 18px; font-weight: 800\"><font color='darkpink'>2. BASIC TERMINOLOGY AND NOTATIONS</font></h4>\n",
    "    <p style=\"margin: 0 0 .5rem 4rem; font-size: 16px; font-weight: 600\"><font color='darkpink'>2a. Basic terminology</font><a id=\"2a\"></a></p>$\\quad$\n",
    "        Machine learning is a vast field and also very interdisciplinary; many terms and concepts appear under different names :<br/>\n",
    "* \"<font color='darkpink'>training example</font>\" or \"<font color='darkpink'>observation</font>\" or \"<font color='darkpink'>record</font>\" or \"<font color='darkpink'>instance</font>\" : an element of the data set; the training examples compose the rows of the dataset; they do not include the output we try to predict. The matrix whose rows are the training examples is called the training matrix, and is usually denoted by <font color='darkpink'>$X$</font>. Its $i$-th row (ie the $i$-th training example) is denoted $x^{(i)}$</p>\n",
    "* \"<font color='darkpink'>feature</font>\" : one column vector of $X$; the \"$j$-th feature\" is the $j$-th column of $X$, and is usually denoted by <font color='darkpink'>$X_j$</font>. A feature is a single property possessed by all the training examples, and its components are their values for this property</p>\n",
    "* \"<font color='darkpink'>target</font>\" or \"<font color='darkpink'>class</font>\" or \"<font color='darkpink'>label</font>\" or \"<font color='darkpink'>outcome</font>\" or \"<font color='darkpink'>output</font>\" or \"<font color='darkpink'>response variable</font>\", usually denoted by \"<font color='darkpink'>y</font>\" : the column vector of the values we want to predict; $y^{(i)}$ corresponds to the value for $x^{(i)}$</p>\n",
    "* \"<font color='darkpink'>cost function</font>\" or \"<font color='darkpink'>loss function</font>\" or \"<font color='darkpink'>error function</font>\" or \"<font color='darkpink'>reward signal</font>\" : the function to minimize in machine learning (as the measure of the total error on the considered examples), or to maximize in reinforcement learning (as a measure of the reward). In some literature, the term \"loss\" refers to the loss measured for a single data point, and the cost is a measurement that computes the loss (average or summed) over the entire dataset; but more often than not both terms are interchangeable.</p>"
   ]
  },
  {
   "cell_type": "markdown",
   "id": "e280a86b",
   "metadata": {},
   "source": [
    "<br><br><div style=\"font-family: Arial; color: darkblue\">\n",
    "    <p style=\"margin: 0 0 .5rem 4rem; font-size: 16px; font-weight: 600\"><font color='darkpink'>2b. Notations</font><a id=\"2b\"></a></p>&nbsp;&nbsp;&nbsp;&nbsp;\n",
    "    A typical dataset is the iris dataset :</p>"
   ]
  },
  {
   "cell_type": "markdown",
   "id": "ff754dc3",
   "metadata": {},
   "source": [
    "<figure style=\"text-align: center;\">\n",
    "    <img src=\"1.6.irisDataset.png\" alt=\"The iris dataset\" width=\"400\" />\n",
    "    <figcaption style=\"margin-top: .5rem; font-weight: bold; color: purple\">The iris dataset</figcaption>\n",
    "</figure>"
   ]
  },
  {
   "cell_type": "markdown",
   "id": "88688be5",
   "metadata": {},
   "source": [
    "<br><div style=\"margin: 0; font-family: Arial; font-size: 14px; font-weight: 500; color: darkblue\">&nbsp;&nbsp;&nbsp;&nbsp;\n",
    "    We can decompose such data sets into a training matrix\n",
    "        $$X = (x^{(i)}_{j})_{\\ i \\in \\{1, \\ldots, 150\\},\\ j \\in \\{1, \\ldots, 4\\}} \\in \\mathbb{R}^{150 \\times 4}$$\n",
    "    and a target\n",
    "        $$y = (y^{(i)})_{\\ i \\in \\{1, \\ldots, 150\\}} \\in \\mathbb{R}^{150 \\times 1}$$\n",
    "    where\n",
    "        $$\\forall i \\in \\{1, \\ldots, 150\\} \\ \\ \\ \\ y^{(i)} \\in \\{\\text{Setosa, Versicolor, Virginica}\\}$$<br/>$\\quad$\n",
    "    The $i$-th training example is the $i$-th row of the training matrix\n",
    "        $$x^{(i)} = (x^{(i)}_{j})_{\\ j = 1, \\ldots, 4} \\in \\mathbb{R}^{1 \\times 4}$$\n",
    "    while the $j$-th feature is its $j$-th column $$x_{j} = (x^{(i)}_{j})_{\\ i = 1, \\ldots, 150} \\in \\mathbb{R}^{150 \\times 1}$$</div>"
   ]
  },
  {
   "cell_type": "markdown",
   "id": "412832d6",
   "metadata": {},
   "source": [
    "<br><br><div style=\"font-family: Arial; color: darkblue\">\n",
    "    <p style=\"margin: 0 0 .5rem 4rem; font-size: 16px; font-weight: 600\"><font color='darkpink'>2c. A roadmap for building Machine Learning systems</font><a id=\"2c\"></a></p>"
   ]
  },
  {
   "cell_type": "markdown",
   "id": "3a2d666b",
   "metadata": {},
   "source": [
    "<figure style=\"text-align: center;\">\n",
    "    <img src=\"1.7.predictiveModelWorkflow.png\" alt=\"Diagram showing the various stages of building a predictive model\" width=\"500\" />\n",
    "    <figcaption style=\"margin-top: .5rem; font-weight: bold; color: purple\">The predictive modeling workflow</figcaption>\n",
    "</figure>"
   ]
  }
 ],
 "metadata": {
  "kernelspec": {
   "display_name": "Python 3 (ipykernel)",
   "language": "python",
   "name": "python3"
  },
  "language_info": {
   "codemirror_mode": {
    "name": "ipython",
    "version": 3
   },
   "file_extension": ".py",
   "mimetype": "text/x-python",
   "name": "python",
   "nbconvert_exporter": "python",
   "pygments_lexer": "ipython3",
   "version": "3.12.3"
  }
 },
 "nbformat": 4,
 "nbformat_minor": 5
}
